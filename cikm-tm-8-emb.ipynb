{
 "cells": [
  {
   "cell_type": "code",
   "execution_count": 9,
   "id": "f8931f04",
   "metadata": {},
   "outputs": [
    {
     "name": "stdout",
     "output_type": "stream",
     "text": [
      "env: PBIN_DIR=/share_6/work/solepro-moriya/jupyter102/venv-3.9.10-cikm/bin\n"
     ]
    }
   ],
   "source": [
    "import sys, os\n",
    "pbin_dir = os.path.dirname(sys.executable)\n",
    "%env PBIN_DIR={pbin_dir}"
   ]
  },
  {
   "cell_type": "code",
   "execution_count": 1,
   "id": "851bcd73",
   "metadata": {},
   "outputs": [
    {
     "name": "stderr",
     "output_type": "stream",
     "text": [
      "/share_6/work/solepro-moriya/jupyter102/venv-3.9.10-cikm/lib/python3.9/site-packages/tqdm/auto.py:22: TqdmWarning: IProgress not found. Please update jupyter and ipywidgets. See https://ipywidgets.readthedocs.io/en/stable/user_install.html\n",
      "  from .autonotebook import tqdm as notebook_tqdm\n"
     ]
    },
    {
     "name": "stdout",
     "output_type": "stream",
     "text": [
      "['it', \"'\", 's', 'impossible', 'at', 'the', 'moment', ',', 'but', 'can', 'you', 'imagine', 'him', 'on', 'the', 'eagles', 'with', 'their', 'd-line', '?']\n"
     ]
    }
   ],
   "source": [
    "#!${PBIN_DIR}/pip install gensim\n",
    "import json\n",
    "import pydash\n",
    "from torchtext.data import get_tokenizer\n",
    "from gensim.models import word2vec\n",
    "tokenizer = get_tokenizer(\"basic_english\")\n",
    "with open('/share_7/projects/hais/data/reddit_nfl/201809101112_20190102_nfl_minill3_train.json') as f:\n",
    "    jsond = json.loads(f.read())\n",
    "sentences = []\n",
    "for author in jsond:\n",
    "    hists = jsond[author]\n",
    "    for hist in hists:\n",
    "        for key in hist:\n",
    "            if key.startswith('context/'):\n",
    "                sentences.append(hist[key])\n",
    "            sentences.append(hist['Context'])\n",
    "            sentences.append(hist['Response'])\n",
    "sentences = pydash.uniq_by(sentences)\n",
    "wordss = [tokenizer(sentence) for sentence in sentences]\n",
    "#padlen = 50\n",
    "#for i, words in enumerate(wordss):\n",
    "#    wordss[i] = ['<PAD>'] * (padlen - len(words)) + words\n",
    "print(wordss[0])\n"
   ]
  },
  {
   "cell_type": "code",
   "execution_count": 2,
   "id": "578207c0",
   "metadata": {},
   "outputs": [],
   "source": [
    "import multiprocessing\n",
    "#https://radimrehurek.com/gensim/models/word2vec.html#\n",
    "#https://rare-technologies.com/word2vec-tutorial/\n",
    "model = word2vec.Word2Vec(wordss,vector_size=200,workers=multiprocessing.cpu_count())\n"
   ]
  },
  {
   "cell_type": "code",
   "execution_count": 3,
   "id": "9c365a7b",
   "metadata": {},
   "outputs": [
    {
     "name": "stdout",
     "output_type": "stream",
     "text": [
      "52356\n"
     ]
    }
   ],
   "source": [
    "wv = model.wv\n",
    "vocab = {'<PAD>':0}\n",
    "#PADは本家でも0になってる\n",
    "embeddings = [[0.0]*200]\n",
    "print(len(wv))\n",
    "for i in range(len(wv)):\n",
    "    vocab[wv.index_to_key[i]] = i+1\n",
    "    #normalizeして出力する方法もあるがcikmのembeddingみるとしてなさそう\n",
    "    embeddings.append(wv[i])\n",
    "import pickle\n",
    "with open(\"vocab_and_embeddings_rednfl.pkl\", mode=\"wb\") as f:\n",
    "    pickle.dump([vocab,embeddings], f)\n"
   ]
  },
  {
   "cell_type": "code",
   "execution_count": 32,
   "id": "28182b21",
   "metadata": {},
   "outputs": [
    {
     "name": "stdout",
     "output_type": "stream",
     "text": [
      "reddit\t\treddit2\t\t    reddit_orig\t\t      weibo\r\n",
      "reddit.tar.bz2\treddit_emb.tar.bz2  vocab_and_embeddings.pkl\r\n"
     ]
    }
   ],
   "source": [
    "!cp dataset"
   ]
  }
 ],
 "metadata": {
  "kernelspec": {
   "display_name": "venv-3.9.10-cikm2",
   "language": "python",
   "name": "venv-3.9.10-cikm2"
  },
  "language_info": {
   "codemirror_mode": {
    "name": "ipython",
    "version": 3
   },
   "file_extension": ".py",
   "mimetype": "text/x-python",
   "name": "python",
   "nbconvert_exporter": "python",
   "pygments_lexer": "ipython3",
   "version": "3.9.10"
  }
 },
 "nbformat": 4,
 "nbformat_minor": 5
}
