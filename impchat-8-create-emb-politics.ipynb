{
 "cells": [
  {
   "cell_type": "code",
   "execution_count": null,
   "id": "f8931f04",
   "metadata": {},
   "outputs": [],
   "source": [
    "import sys, os\n",
    "pbin_dir = os.path.dirname(sys.executable)\n",
    "%env PBIN_DIR={pbin_dir}"
   ]
  },
  {
   "cell_type": "code",
   "execution_count": null,
   "id": "851bcd73",
   "metadata": {},
   "outputs": [],
   "source": [
    "!${PBIN_DIR}/pip install gensim\n",
    "import json\n",
    "import pydash\n",
    "from torchtext.data import get_tokenizer\n",
    "from gensim.models import word2vec\n",
    "tokenizer = get_tokenizer(\"basic_english\")\n",
    "#with open('/share_7/projects/hais/data/reddit_nfl/201809101112_20190102_politics_minill3_train.json') as f:\n",
    "#with open('/share_7/projects/hais/data/reddit_nfl/201809101112_20190102_nfl_minill3_train.json') as f:\n",
    "with open('/share_7/projects/hais/data/reddit_nfl/201809101112_20190102_nfl_minill3_train.json') as f:\n",
    "#with open('/share_7/projects/hais/data/reddit_nfl/201809101112_20190102_politics_minill3_train.json') as f:\n",
    "    jsond = json.loads(f.read())\n",
    "sentences = []\n",
    "for author in jsond:\n",
    "    hists = jsond[author]\n",
    "    for hist in hists:\n",
    "        for key in hist:\n",
    "            if key.startswith('context/'):\n",
    "                sentences.append(hist[key])\n",
    "            sentences.append(hist['Context'])\n",
    "            sentences.append(hist['Response'])\n",
    "sentences = pydash.uniq_by(sentences)\n",
    "wordss = [tokenizer(sentence) for sentence in sentences]\n",
    "#padlen = 50\n",
    "#for i, words in enumerate(wordss):\n",
    "#    wordss[i] = ['<PAD>'] * (padlen - len(words)) + words\n",
    "print(wordss[0])\n"
   ]
  },
  {
   "cell_type": "code",
   "execution_count": null,
   "id": "578207c0",
   "metadata": {},
   "outputs": [],
   "source": [
    "import multiprocessing\n",
    "#https://radimrehurek.com/gensim/models/word2vec.html#\n",
    "#https://rare-technologies.com/word2vec-tutorial/\n",
    "model = word2vec.Word2Vec(wordss,vector_size=200,workers=multiprocessing.cpu_count())\n"
   ]
  },
  {
   "cell_type": "code",
   "execution_count": null,
   "id": "9c365a7b",
   "metadata": {},
   "outputs": [],
   "source": [
    "wv = model.wv\n",
    "vocab = {'<PAD>':0}\n",
    "#PADは本家でも0になってる\n",
    "embeddings = [[0.0]*200]\n",
    "print(len(wv))\n",
    "for i in range(len(wv)):\n",
    "    vocab[wv.index_to_key[i]] = i+1\n",
    "    #normalizeして出力する方法もあるがcikmのembeddingみるとしてなさそう\n",
    "    embeddings.append(wv[i])\n",
    "import pickle\n",
    "with open(\"vocab_and_embeddings_rednfl.pkl\", mode=\"wb\") as f:\n",
    "    pickle.dump([vocab,embeddings], f)\n"
   ]
  },
  {
   "cell_type": "code",
   "execution_count": null,
   "id": "28182b21",
   "metadata": {},
   "outputs": [],
   "source": [
    "#!mv vocab_and_embeddings_rednfl.pkl vocab_and_embeddings_redpol.pkl\n",
    "!mv vocab_and_embeddings_rednfl.pkl vocab_and_embeddings_nfl_minill3.pkl\n",
    "#!mv vocab_and_embeddings_rednfl.pkl vocab_and_embeddings_politics_minill3.pkl\n",
    "!pwd\n",
    "print(\"done.\")"
   ]
  },
  {
   "cell_type": "code",
   "execution_count": null,
   "id": "38652222",
   "metadata": {},
   "outputs": [],
   "source": []
  }
 ],
 "metadata": {
  "kernelspec": {
   "display_name": "venv-3.9.10-cikm2",
   "language": "python",
   "name": "venv-3.9.10-cikm2"
  },
  "language_info": {
   "codemirror_mode": {
    "name": "ipython",
    "version": 3
   },
   "file_extension": ".py",
   "mimetype": "text/x-python",
   "name": "python",
   "nbconvert_exporter": "python",
   "pygments_lexer": "ipython3",
   "version": "3.9.10"
  }
 },
 "nbformat": 4,
 "nbformat_minor": 5
}
