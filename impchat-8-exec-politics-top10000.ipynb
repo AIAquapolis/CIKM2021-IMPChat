{
 "cells": [
  {
   "cell_type": "code",
   "execution_count": 1,
   "id": "f8931f04",
   "metadata": {},
   "outputs": [
    {
     "data": {
      "text/html": [
       "<style>.container { width:100% !important; }</style>"
      ],
      "text/plain": [
       "<IPython.core.display.HTML object>"
      ]
     },
     "metadata": {},
     "output_type": "display_data"
    },
    {
     "name": "stdout",
     "output_type": "stream",
     "text": [
      "env: PBIN_DIR=/share_6/work/solepro-moriya/jupyter102/venv-3.9.10-cikm/bin\n",
      "/share_6/work/solepro-moriya/jupyter102/venv-3.9.10-cikm/bin:/root/.pyenv/versions/3.9.10/bin:/root/.pyenv/libexec:/root/.pyenv/plugins/python-build/bin:/root/.cargo/bin:/root/.pyenv/shims:/root/.pyenv/bin:/usr/local/nvidia/bin:/usr/local/cuda/bin:/usr/local/sbin:/usr/local/bin:/usr/sbin:/usr/bin:/sbin:/bin\n"
     ]
    }
   ],
   "source": [
    "from IPython.display import display, HTML\n",
    "display(HTML(\"<style>.container { width:100% !important; }</style>\"))\n",
    "import sys, os\n",
    "pbin_dir = os.path.dirname(sys.executable)\n",
    "%env PBIN_DIR={pbin_dir}\n",
    "os.environ['PATH'] = f'{os.environ[\"PBIN_DIR\"]}:{os.environ[\"PATH\"]}'\n",
    "print(os.environ['PATH'])"
   ]
  },
  {
   "cell_type": "code",
   "execution_count": 2,
   "id": "d1e514c6",
   "metadata": {},
   "outputs": [
    {
     "name": "stdout",
     "output_type": "stream",
     "text": [
      "/share_6/work/solepro-moriya/jupyter102/cikm/CIKM2021-IMPChat\r\n"
     ]
    }
   ],
   "source": [
    "!pwd"
   ]
  },
  {
   "cell_type": "code",
   "execution_count": null,
   "id": "4f00f680",
   "metadata": {
    "scrolled": false
   },
   "outputs": [],
   "source": [
    "%%capture output\n",
    "#読み込むデータはrun.pyで直接書き換える必要がある\n",
    "!date +%Y%m%d%-H%M>tmpdate\n",
    "!cat tmpdate\n",
    "%env dataset=reddit\n",
    "%env CUDA_VISIBLE_DEVICES=0,1\n",
    "#%env CUDA_VISIBLE_DEVICES=2\n",
    "!which python\n",
    "#batch_sizeはcustom embでは30\n",
    "!python run.py \\\n",
    "    --task ${dataset} \\\n",
    "    --batch_size 32 \\\n",
    "    --eval_steps 40000 \\\n",
    "    --emb_len 200 \\\n",
    "    --max_utterances 19 \\\n",
    "    --learning_rate 5e-4\\\n",
    "    --max_words 50 \\\n",
    "    --n_gpu 2 \\\n",
    "    --epochs 100 \\\n",
    "    --n_layer 3 \\\n",
    "    --max_hop 2 \\\n",
    "    --score_file_path score_file.txt \\\n",
    "    --model_file_name ${dataset}_impchat.pt \\\n",
    "    --is_training True\n",
    "\n",
    "#CUDA もともとは0,1\n",
    "#n_gpu もともとは2\n",
    "#epoch もともとは100\n",
    "#max_utterances もともとは29"
   ]
  },
  {
   "cell_type": "code",
   "execution_count": null,
   "id": "53381712",
   "metadata": {},
   "outputs": [],
   "source": [
    "output.show()"
   ]
  },
  {
   "cell_type": "code",
   "execution_count": null,
   "id": "483d4b08",
   "metadata": {},
   "outputs": [],
   "source": []
  }
 ],
 "metadata": {
  "kernelspec": {
   "display_name": "venv-3.9.10-cikm2",
   "language": "python",
   "name": "venv-3.9.10-cikm2"
  },
  "language_info": {
   "codemirror_mode": {
    "name": "ipython",
    "version": 3
   },
   "file_extension": ".py",
   "mimetype": "text/x-python",
   "name": "python",
   "nbconvert_exporter": "python",
   "pygments_lexer": "ipython3",
   "version": "3.9.10"
  }
 },
 "nbformat": 4,
 "nbformat_minor": 5
}
