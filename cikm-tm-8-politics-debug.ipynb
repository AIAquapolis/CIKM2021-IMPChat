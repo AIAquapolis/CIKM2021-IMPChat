{
 "cells": [
  {
   "cell_type": "code",
   "execution_count": 58,
   "id": "f8931f04",
   "metadata": {},
   "outputs": [
    {
     "name": "stdout",
     "output_type": "stream",
     "text": [
      "env: PBIN_DIR=/share_6/work/solepro-moriya/jupyter102/venv-3.9.10-cikm/bin\n"
     ]
    }
   ],
   "source": [
    "import sys, os\n",
    "pbin_dir = os.path.dirname(sys.executable)\n",
    "%env PBIN_DIR={pbin_dir}"
   ]
  },
  {
   "cell_type": "code",
   "execution_count": 1,
   "id": "4f66c901",
   "metadata": {},
   "outputs": [
    {
     "name": "stdout",
     "output_type": "stream",
     "text": [
      "1\tHey I'm a little behind, once the government started working again, I didn't pay as much attention to what was going on. Why is\tIt’s to question why Whitaker decided NOT to recuse himself from the Mueller probe.\tThank you!\r\n",
      "0\tHey I'm a little behind, once the government started working again, I didn't pay as much attention to what was going on. Why is\tIt’s to question why Whitaker decided NOT to recuse himself from the Mueller probe.\tThere's an old expression \\n \\n &gt; Never wrestle with a pig.  You'll both get dirty, but he'll enjoy it.\\n \\n I think it's wise to\r\n",
      "0\tHey I'm a little behind, once the government started working again, I didn't pay as much attention to what was going on. Why is\tIt’s to question why Whitaker decided NOT to recuse himself from the Mueller probe.\tr/unexpected_vacation\r\n",
      "0\tHey I'm a little behind, once the government started working again, I didn't pay as much attention to what was going on. Why is\tIt’s to question why Whitaker decided NOT to recuse himself from the Mueller probe.\tYeah... I'm not sure what I'll do. This has completely disrupted my life.\r\n",
      "0\tHey I'm a little behind, once the government started working again, I didn't pay as much attention to what was going on. Why is\tIt’s to question why Whitaker decided NOT to recuse himself from the Mueller probe.\tSorry, Republicans will always be a part of America's government whether you like it or not. Checks and balances.\r\n",
      "0\tHey I'm a little behind, once the government started working again, I didn't pay as much attention to what was going on. Why is\tIt’s to question why Whitaker decided NOT to recuse himself from the Mueller probe.\tThat's the vibe I'm getting, too.  Also a, \"Stock up on popcorn\" vibe.\r\n",
      "0\tHey I'm a little behind, once the government started working again, I didn't pay as much attention to what was going on. Why is\tIt’s to question why Whitaker decided NOT to recuse himself from the Mueller probe.\tThank you!\r\n",
      "0\tHey I'm a little behind, once the government started working again, I didn't pay as much attention to what was going on. Why is\tIt’s to question why Whitaker decided NOT to recuse himself from the Mueller probe.\tUh yeah! Spending is spending. The military is way too expensive. Just pissing money everywhere\r\n",
      "0\tHey I'm a little behind, once the government started working again, I didn't pay as much attention to what was going on. Why is\tIt’s to question why Whitaker decided NOT to recuse himself from the Mueller probe.\tYeah, a just society, ew, who would want that, let alone fight for it!\r\n",
      "0\tHey I'm a little behind, once the government started working again, I didn't pay as much attention to what was going on. Why is\tIt’s to question why Whitaker decided NOT to recuse himself from the Mueller probe.\tThe opposition has virtually zero platform and no legitimate contenders\r\n"
     ]
    }
   ],
   "source": [
    "!cat /share_7/projects/hais/data/reddit_nfl_bertfp/minill3politics_data/201809101112_20190102_politics_minill3_test.tsv|grep 'Whitaker decided NOT to recuse himself from the Mueller probe'"
   ]
  }
 ],
 "metadata": {
  "kernelspec": {
   "display_name": "venv-3.9.10-cikm2",
   "language": "python",
   "name": "venv-3.9.10-cikm2"
  },
  "language_info": {
   "codemirror_mode": {
    "name": "ipython",
    "version": 3
   },
   "file_extension": ".py",
   "mimetype": "text/x-python",
   "name": "python",
   "nbconvert_exporter": "python",
   "pygments_lexer": "ipython3",
   "version": "3.9.10"
  }
 },
 "nbformat": 4,
 "nbformat_minor": 5
}
